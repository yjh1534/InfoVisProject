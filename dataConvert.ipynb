{
 "cells": [
  {
   "cell_type": "code",
   "execution_count": 33,
   "metadata": {},
   "outputs": [],
   "source": [
    "import pickle\n",
    "\n",
    "with open(f\"Data/rawdata\", 'rb') as f:\n",
    "    data = pickle.load(f)\n",
    "\n",
    "with open(f\"Data/uniqueBS\", 'rb') as f:\n",
    "    unique_bs = pickle.load(f)"
   ]
  },
  {
   "cell_type": "code",
   "execution_count": 34,
   "metadata": {},
   "outputs": [],
   "source": [
    "class pc_potential:\n",
    "    def __init__(self, line, id, parent_id, const_line, both_line, largeV_line):\n",
    "        self.id = id\n",
    "        self.constraint = line\n",
    "        self.constc = const_line\n",
    "        self.bothc = both_line\n",
    "        self.largec = largeV_line\n",
    "        self.potential = set()\n",
    "        self.parent_id = parent_id\n",
    "        self.child_list = []\n",
    "\n",
    "class PathConditionTree:\n",
    "    def __init__(self, unique_branchset):\n",
    "        self.state_conditions = []\n",
    "        self.state_tree = {-1:pc_potential(None, -1, None, None, None, None)}\n",
    "        self.unique_branchset = unique_branchset\n",
    "\n",
    "    def add_newdata(self, pc, bsidx, const_line, both_line, largeV_line):\n",
    "        parent_id = -1\n",
    "        for i, c in enumerate(pc):\n",
    "            sc = pc[:i+1]\n",
    "            try:\n",
    "                scidx = self.state_conditions.index(sc)\n",
    "            except:\n",
    "                scidx = len(self.state_conditions)\n",
    "                self.state_conditions.append(sc)\n",
    "                self.state_tree[scidx] = pc_potential(c, scidx, parent_id, const_line[i], both_line[i], largeV_line[i])\n",
    "                self.state_tree[parent_id].child_list.append(scidx)\n",
    "            self.state_tree[scidx].potential |= self.unique_branchset[bsidx]\n",
    "            parent_id = scidx\n",
    "            "
   ]
  },
  {
   "cell_type": "code",
   "execution_count": 42,
   "metadata": {},
   "outputs": [
    {
     "data": {
      "text/plain": [
       "{'bsidx': 1,\n",
       " 'path-condition': ['(Ult (ReadLSB w32 0 n_args) 2)',\n",
       "  '(Slt 0 (ReadLSB w32 0 n_args))',\n",
       "  '(Ult (ReadLSB w32 0 n_args_1) 3)',\n",
       "  '(Slt 0 (ReadLSB w32 0 n_args_1))',\n",
       "  '(Eq false (Eq 1 (ReadLSB w32 0 n_args_1)))',\n",
       "  '(Eq false (Eq 0 (And w64 (ReadLSB w64 8 A-data-stat) 2147483647)))',\n",
       "  '(Ult (ReadLSB w64 56 A-data-stat) 65536)',\n",
       "  '(Eq false (Eq 0 (And w64 (ReadLSB w64 8 stdin-stat) 2147483647)))',\n",
       "  '(Ult (ReadLSB w64 56 stdin-stat) 65536)',\n",
       "  '(Eq false (Eq 0 (And w64 (ReadLSB w64 8 stdout-stat) 2147483647)))',\n",
       "  '(Ult (ReadLSB w64 56 stdout-stat) 65536)',\n",
       "  '(Eq 1 (ReadLSB w32 0 model_version))',\n",
       "  '(Eq false (Eq 45 (Read w8 0 arg00)))',\n",
       "  '(Eq 0 (Read w8 0 arg00))'],\n",
       " 'const-abstract': ['( Ult ( ReadLSB w32 0 n_args ) 2 )',\n",
       "  '( Slt 0 ( ReadLSB w32 0 n_args ) )',\n",
       "  '( Ult ( ReadLSB w32 0 n_args_1 ) 3 )',\n",
       "  '( Slt 0 ( ReadLSB w32 0 n_args_1 ) )',\n",
       "  '( Eq false ( Eq 1 ( ReadLSB w32 0 n_args_1 ) ) )',\n",
       "  '( Eq false ( Eq 0 ( And w64 ( ReadLSB w64 8 A-data-stat ) 2147483647 ) ) )',\n",
       "  '( Ult ( ReadLSB w64 56 A-data-stat ) 65536 )',\n",
       "  '( Eq false ( Eq 0 ( And w64 ( ReadLSB w64 8 stdin-stat ) 2147483647 ) ) )',\n",
       "  '( Ult ( ReadLSB w64 56 stdin-stat ) 65536 )',\n",
       "  '( Eq false ( Eq 0 ( And w64 ( ReadLSB w64 8 stdout-stat ) 2147483647 ) ) )',\n",
       "  '( Ult ( ReadLSB w64 56 stdout-stat ) 65536 )',\n",
       "  '( Eq 1 ( ReadLSB w32 0 model_version ) )',\n",
       "  '( Eq false ( Eq 45 ( Read w8 0 arg00 ) ) )',\n",
       "  '( Eq 0 ( Read w8 0 arg00 ) )'],\n",
       " 'both-abstract': ['( Ult ( ReadLSB w32 0 n_args ) 2 )',\n",
       "  '( Slt 0 ( ReadLSB w32 0 n_args ) )',\n",
       "  '( Ult ( ReadLSB w32 0 n_args_1 ) 3 )',\n",
       "  '( Slt 0 ( ReadLSB w32 0 n_args_1 ) )',\n",
       "  '( Eq false ( Eq 1 ( ReadLSB w32 0 n_args_1 ) ) )',\n",
       "  '( Eq false ( Eq 0 ( And w64 ( ReadLSB w64 8 A-data-stat ) LargeValue ) ) )',\n",
       "  '( Ult ( ReadLSB w64 56 A-data-stat ) 65536 )',\n",
       "  '( Eq false ( Eq 0 ( And w64 ( ReadLSB w64 8 stdin-stat ) LargeValue ) ) )',\n",
       "  '( Ult ( ReadLSB w64 56 stdin-stat ) 65536 )',\n",
       "  '( Eq false ( Eq 0 ( And w64 ( ReadLSB w64 8 stdout-stat ) LargeValue ) ) )',\n",
       "  '( Ult ( ReadLSB w64 56 stdout-stat ) 65536 )',\n",
       "  '( Eq 1 ( ReadLSB w32 0 model_version ) )',\n",
       "  '( Eq false ( Eq 45 ( Read w8 0 arg00 ) ) )',\n",
       "  '( Eq 0 ( Read w8 0 arg00 ) )'],\n",
       " 'largevalue-abstract': ['( Ult ( ReadLSB w32 0 n_args ) 2 )',\n",
       "  '( Slt 0 ( ReadLSB w32 0 n_args ) )',\n",
       "  '( Ult ( ReadLSB w32 0 n_args_1 ) 3 )',\n",
       "  '( Slt 0 ( ReadLSB w32 0 n_args_1 ) )',\n",
       "  '( Eq false ( Eq 1 ( ReadLSB w32 0 n_args_1 ) ) )',\n",
       "  '( Eq false ( Eq 0 ( And w64 ( ReadLSB w64 8 A-data-stat ) LargeValue ) ) )',\n",
       "  '( Ult ( ReadLSB w64 56 A-data-stat ) 65536 )',\n",
       "  '( Eq false ( Eq 0 ( And w64 ( ReadLSB w64 8 stdin-stat ) LargeValue ) ) )',\n",
       "  '( Ult ( ReadLSB w64 56 stdin-stat ) 65536 )',\n",
       "  '( Eq false ( Eq 0 ( And w64 ( ReadLSB w64 8 stdout-stat ) LargeValue ) ) )',\n",
       "  '( Ult ( ReadLSB w64 56 stdout-stat ) 65536 )',\n",
       "  '( Eq 1 ( ReadLSB w32 0 model_version ) )',\n",
       "  '( Eq false ( Eq 45 ( Read w8 0 arg00 ) ) )',\n",
       "  '( Eq 0 ( Read w8 0 arg00 ) )']}"
      ]
     },
     "execution_count": 42,
     "metadata": {},
     "output_type": "execute_result"
    }
   ],
   "source": [
    "data['/home/jaehan/dd-klee/ours_experiments/minset_all_query_1/combine/result/0/10/test000002.ktest']"
   ]
  },
  {
   "cell_type": "code",
   "execution_count": 36,
   "metadata": {},
   "outputs": [],
   "source": [
    "tree_data = PathConditionTree(unique_bs)\n",
    "for ktest in data:\n",
    "    bsidx, pc, constpc, bothpc, lvpc = data[ktest].items()\n",
    "    tree_data.add_newdata(pc[1], bsidx[1], constpc[1], bothpc[1], lvpc[1])"
   ]
  },
  {
   "cell_type": "code",
   "execution_count": 37,
   "metadata": {},
   "outputs": [
    {
     "data": {
      "text/plain": [
       "2396"
      ]
     },
     "execution_count": 37,
     "metadata": {},
     "output_type": "execute_result"
    }
   ],
   "source": [
    "len(tree_data.state_tree)"
   ]
  },
  {
   "cell_type": "code",
   "execution_count": 43,
   "metadata": {},
   "outputs": [],
   "source": [
    "node_data = {}\n",
    "for node_id, node_info in tree_data.state_tree.items():\n",
    "    node_data[node_id] = {}\n",
    "    node_data[node_id][\"constraint\"] = node_info.constraint\n",
    "    node_data[node_id][\"const_constraint\"] = node_info.constc\n",
    "    node_data[node_id][\"both_constraint\"] = node_info.bothc\n",
    "    node_data[node_id][\"large_constraint\"] = node_info.largec\n",
    "    node_data[node_id][\"children\"] = node_info.child_list\n",
    "    node_data[node_id][\"potential\"] = len(node_info.potential)"
   ]
  },
  {
   "cell_type": "code",
   "execution_count": 51,
   "metadata": {},
   "outputs": [],
   "source": [
    "import json\n",
    "del node_data[-1]\n",
    "with open(f\"nodesData.json\", 'w') as f:\n",
    "    json.dump(node_data, f, indent=4)"
   ]
  }
 ],
 "metadata": {
  "kernelspec": {
   "display_name": "Python 3",
   "language": "python",
   "name": "python3"
  },
  "language_info": {
   "codemirror_mode": {
    "name": "ipython",
    "version": 3
   },
   "file_extension": ".py",
   "mimetype": "text/x-python",
   "name": "python",
   "nbconvert_exporter": "python",
   "pygments_lexer": "ipython3",
   "version": "3.7.9"
  },
  "orig_nbformat": 4
 },
 "nbformat": 4,
 "nbformat_minor": 2
}
